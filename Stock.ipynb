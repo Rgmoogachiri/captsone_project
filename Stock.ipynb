{
 "cells": [
  {
   "cell_type": "markdown",
   "metadata": {
    "jp-MarkdownHeadingCollapsed": true
   },
   "source": [
    "### Business Understanding:\n",
    "\n",
    "In the fast-paced world of finance, timely access to real-time stock market data is essential for making well-informed decisions, crafting effective strategies, and managing risks. This data wealth offers a unique opportunity to develop predictive models capable of forecasting stock prices, spotting emerging trends, and providing actionable insights to empower investors and traders.\n",
    "\n",
    "Our proposal introduces a comprehensive data science project designed to harness real-time stock market data for constructing predictive models. By leveraging sophisticated machine learning techniques and advanced data analysis methodologies, our project aims to bridge the gap between raw data and strategic decision-making. We believe that by providing stakeholders in the financial sector with robust predictive tools, we can help them navigate the intricate landscape of the stock market more effectively.\n",
    "\n",
    "This proposal outlines a structured approach to utilizing real-time stock market data, including data collection, preprocessing, feature engineering, model development, and rigorous evaluation. Through the collaborative efforts of multidisciplinary teams, combined with our commitment to innovation and excellence, we aspire to redefine the boundaries of predictive analytics in finance. Our goal is to create value, manage risks, and foster sustainable growth within the financial ecosystem.\n",
    "\n"
   ]
  },
  {
   "cell_type": "markdown",
   "metadata": {},
   "source": [
    "## Import relevant libraries"
   ]
  },
  {
   "cell_type": "code",
   "execution_count": 1,
   "metadata": {},
   "outputs": [],
   "source": [
    "import pandas as pd\n",
    "import numpy as np\n",
    "import matplotlib.pyplot as plt\n",
    "from pandas import Series"
   ]
  },
  {
   "cell_type": "markdown",
   "metadata": {},
   "source": [
    "## Load Data"
   ]
  },
  {
   "cell_type": "code",
   "execution_count": 2,
   "metadata": {},
   "outputs": [
    {
     "data": {
      "text/html": [
       "<div>\n",
       "<style scoped>\n",
       "    .dataframe tbody tr th:only-of-type {\n",
       "        vertical-align: middle;\n",
       "    }\n",
       "\n",
       "    .dataframe tbody tr th {\n",
       "        vertical-align: top;\n",
       "    }\n",
       "\n",
       "    .dataframe thead th {\n",
       "        text-align: right;\n",
       "    }\n",
       "</style>\n",
       "<table border=\"1\" class=\"dataframe\">\n",
       "  <thead>\n",
       "    <tr style=\"text-align: right;\">\n",
       "      <th></th>\n",
       "      <th>close</th>\n",
       "      <th>high</th>\n",
       "      <th>low</th>\n",
       "      <th>open</th>\n",
       "      <th>priceDate</th>\n",
       "      <th>symbol</th>\n",
       "      <th>volume</th>\n",
       "      <th>id</th>\n",
       "      <th>key</th>\n",
       "      <th>subkey</th>\n",
       "      <th>...</th>\n",
       "      <th>uVolume</th>\n",
       "      <th>fOpen</th>\n",
       "      <th>fClose</th>\n",
       "      <th>fHigh</th>\n",
       "      <th>fLow</th>\n",
       "      <th>fVolume</th>\n",
       "      <th>label</th>\n",
       "      <th>change</th>\n",
       "      <th>changePercent</th>\n",
       "      <th>Name</th>\n",
       "    </tr>\n",
       "  </thead>\n",
       "  <tbody>\n",
       "    <tr>\n",
       "      <th>2022-01-03</th>\n",
       "      <td>182.01</td>\n",
       "      <td>182.88</td>\n",
       "      <td>177.71</td>\n",
       "      <td>177.83</td>\n",
       "      <td>2022-01-03</td>\n",
       "      <td>AAPL</td>\n",
       "      <td>104701220.0</td>\n",
       "      <td>HISTORICAL_PRICES</td>\n",
       "      <td>AAPL</td>\n",
       "      <td>NaN</td>\n",
       "      <td>...</td>\n",
       "      <td>104701220</td>\n",
       "      <td>175.358163</td>\n",
       "      <td>179.480061</td>\n",
       "      <td>180.337968</td>\n",
       "      <td>175.239831</td>\n",
       "      <td>104701220.0</td>\n",
       "      <td>2022-01-03</td>\n",
       "      <td>4.44</td>\n",
       "      <td>0.0250</td>\n",
       "      <td>Apple Inc.</td>\n",
       "    </tr>\n",
       "    <tr>\n",
       "      <th>2022-01-04</th>\n",
       "      <td>179.70</td>\n",
       "      <td>182.94</td>\n",
       "      <td>179.12</td>\n",
       "      <td>182.63</td>\n",
       "      <td>2022-01-04</td>\n",
       "      <td>AAPL</td>\n",
       "      <td>99310438.0</td>\n",
       "      <td>HISTORICAL_PRICES</td>\n",
       "      <td>AAPL</td>\n",
       "      <td>NaN</td>\n",
       "      <td>...</td>\n",
       "      <td>99310438</td>\n",
       "      <td>180.091443</td>\n",
       "      <td>177.202170</td>\n",
       "      <td>180.397134</td>\n",
       "      <td>176.630232</td>\n",
       "      <td>99310438.0</td>\n",
       "      <td>2022-01-04</td>\n",
       "      <td>-2.31</td>\n",
       "      <td>-0.0127</td>\n",
       "      <td>Apple Inc.</td>\n",
       "    </tr>\n",
       "    <tr>\n",
       "      <th>2022-01-05</th>\n",
       "      <td>174.92</td>\n",
       "      <td>180.17</td>\n",
       "      <td>174.64</td>\n",
       "      <td>179.61</td>\n",
       "      <td>2022-01-05</td>\n",
       "      <td>AAPL</td>\n",
       "      <td>94537602.0</td>\n",
       "      <td>HISTORICAL_PRICES</td>\n",
       "      <td>AAPL</td>\n",
       "      <td>NaN</td>\n",
       "      <td>...</td>\n",
       "      <td>94537602</td>\n",
       "      <td>177.113421</td>\n",
       "      <td>172.488612</td>\n",
       "      <td>177.665637</td>\n",
       "      <td>172.212504</td>\n",
       "      <td>94537602.0</td>\n",
       "      <td>2022-01-05</td>\n",
       "      <td>-4.78</td>\n",
       "      <td>-0.0266</td>\n",
       "      <td>Apple Inc.</td>\n",
       "    </tr>\n",
       "    <tr>\n",
       "      <th>2022-01-06</th>\n",
       "      <td>172.00</td>\n",
       "      <td>175.30</td>\n",
       "      <td>171.64</td>\n",
       "      <td>172.70</td>\n",
       "      <td>2022-01-06</td>\n",
       "      <td>AAPL</td>\n",
       "      <td>96903955.0</td>\n",
       "      <td>HISTORICAL_PRICES</td>\n",
       "      <td>AAPL</td>\n",
       "      <td>NaN</td>\n",
       "      <td>...</td>\n",
       "      <td>96903955</td>\n",
       "      <td>170.299470</td>\n",
       "      <td>169.609200</td>\n",
       "      <td>172.863330</td>\n",
       "      <td>169.254204</td>\n",
       "      <td>96903955.0</td>\n",
       "      <td>2022-01-06</td>\n",
       "      <td>-2.92</td>\n",
       "      <td>-0.0167</td>\n",
       "      <td>Apple Inc.</td>\n",
       "    </tr>\n",
       "    <tr>\n",
       "      <th>2022-01-07</th>\n",
       "      <td>172.17</td>\n",
       "      <td>174.14</td>\n",
       "      <td>171.03</td>\n",
       "      <td>172.89</td>\n",
       "      <td>2022-01-07</td>\n",
       "      <td>AAPL</td>\n",
       "      <td>86709147.0</td>\n",
       "      <td>HISTORICAL_PRICES</td>\n",
       "      <td>AAPL</td>\n",
       "      <td>NaN</td>\n",
       "      <td>...</td>\n",
       "      <td>86709147</td>\n",
       "      <td>170.486829</td>\n",
       "      <td>169.776837</td>\n",
       "      <td>171.719454</td>\n",
       "      <td>168.652683</td>\n",
       "      <td>86709147.0</td>\n",
       "      <td>2022-01-07</td>\n",
       "      <td>0.17</td>\n",
       "      <td>0.0010</td>\n",
       "      <td>Apple Inc.</td>\n",
       "    </tr>\n",
       "  </tbody>\n",
       "</table>\n",
       "<p>5 rows × 27 columns</p>\n",
       "</div>"
      ],
      "text/plain": [
       "             close    high     low    open  priceDate symbol       volume  \\\n",
       "2022-01-03  182.01  182.88  177.71  177.83 2022-01-03   AAPL  104701220.0   \n",
       "2022-01-04  179.70  182.94  179.12  182.63 2022-01-04   AAPL   99310438.0   \n",
       "2022-01-05  174.92  180.17  174.64  179.61 2022-01-05   AAPL   94537602.0   \n",
       "2022-01-06  172.00  175.30  171.64  172.70 2022-01-06   AAPL   96903955.0   \n",
       "2022-01-07  172.17  174.14  171.03  172.89 2022-01-07   AAPL   86709147.0   \n",
       "\n",
       "                           id   key  subkey  ...    uVolume       fOpen  \\\n",
       "2022-01-03  HISTORICAL_PRICES  AAPL     NaN  ...  104701220  175.358163   \n",
       "2022-01-04  HISTORICAL_PRICES  AAPL     NaN  ...   99310438  180.091443   \n",
       "2022-01-05  HISTORICAL_PRICES  AAPL     NaN  ...   94537602  177.113421   \n",
       "2022-01-06  HISTORICAL_PRICES  AAPL     NaN  ...   96903955  170.299470   \n",
       "2022-01-07  HISTORICAL_PRICES  AAPL     NaN  ...   86709147  170.486829   \n",
       "\n",
       "                fClose       fHigh        fLow      fVolume      label  \\\n",
       "2022-01-03  179.480061  180.337968  175.239831  104701220.0 2022-01-03   \n",
       "2022-01-04  177.202170  180.397134  176.630232   99310438.0 2022-01-04   \n",
       "2022-01-05  172.488612  177.665637  172.212504   94537602.0 2022-01-05   \n",
       "2022-01-06  169.609200  172.863330  169.254204   96903955.0 2022-01-06   \n",
       "2022-01-07  169.776837  171.719454  168.652683   86709147.0 2022-01-07   \n",
       "\n",
       "            change  changePercent        Name  \n",
       "2022-01-03    4.44         0.0250  Apple Inc.  \n",
       "2022-01-04   -2.31        -0.0127  Apple Inc.  \n",
       "2022-01-05   -4.78        -0.0266  Apple Inc.  \n",
       "2022-01-06   -2.92        -0.0167  Apple Inc.  \n",
       "2022-01-07    0.17         0.0010  Apple Inc.  \n",
       "\n",
       "[5 rows x 27 columns]"
      ]
     },
     "execution_count": 2,
     "metadata": {},
     "output_type": "execute_result"
    }
   ],
   "source": [
    "stocks_df = pd.read_excel(\"Data/update_stock_data.xlsx\", index_col = 0)\n",
    "stocks_df.head()"
   ]
  },
  {
   "cell_type": "code",
   "execution_count": 3,
   "metadata": {},
   "outputs": [
    {
     "name": "stdout",
     "output_type": "stream",
     "text": [
      "<class 'pandas.core.frame.DataFrame'>\n",
      "DatetimeIndex: 10509 entries, 2022-01-03 to 2022-12-30\n",
      "Data columns (total 27 columns):\n",
      " #   Column                Non-Null Count  Dtype         \n",
      "---  ------                --------------  -----         \n",
      " 0   close                 10509 non-null  float64       \n",
      " 1   high                  10509 non-null  float64       \n",
      " 2   low                   10509 non-null  float64       \n",
      " 3   open                  10509 non-null  float64       \n",
      " 4   priceDate             10509 non-null  datetime64[ns]\n",
      " 5   symbol                10509 non-null  object        \n",
      " 6   volume                10509 non-null  float64       \n",
      " 7   id                    10509 non-null  object        \n",
      " 8   key                   10509 non-null  object        \n",
      " 9   subkey                0 non-null      float64       \n",
      " 10  updated               10509 non-null  float64       \n",
      " 11  changeOverTime        10509 non-null  float64       \n",
      " 12  marketChangeOverTime  10509 non-null  float64       \n",
      " 13  uOpen                 10509 non-null  float64       \n",
      " 14  uClose                10509 non-null  float64       \n",
      " 15  uHigh                 10509 non-null  float64       \n",
      " 16  uLow                  10509 non-null  float64       \n",
      " 17  uVolume               10509 non-null  int64         \n",
      " 18  fOpen                 10509 non-null  float64       \n",
      " 19  fClose                10509 non-null  float64       \n",
      " 20  fHigh                 10509 non-null  float64       \n",
      " 21  fLow                  10509 non-null  float64       \n",
      " 22  fVolume               10509 non-null  float64       \n",
      " 23  label                 10509 non-null  datetime64[ns]\n",
      " 24  change                10509 non-null  float64       \n",
      " 25  changePercent         10509 non-null  float64       \n",
      " 26  Name                  10509 non-null  object        \n",
      "dtypes: datetime64[ns](2), float64(20), int64(1), object(4)\n",
      "memory usage: 2.2+ MB\n"
     ]
    }
   ],
   "source": [
    "stocks_df.info()"
   ]
  },
  {
   "cell_type": "code",
   "execution_count": 4,
   "metadata": {},
   "outputs": [
    {
     "data": {
      "text/html": [
       "<div>\n",
       "<style scoped>\n",
       "    .dataframe tbody tr th:only-of-type {\n",
       "        vertical-align: middle;\n",
       "    }\n",
       "\n",
       "    .dataframe tbody tr th {\n",
       "        vertical-align: top;\n",
       "    }\n",
       "\n",
       "    .dataframe thead th {\n",
       "        text-align: right;\n",
       "    }\n",
       "</style>\n",
       "<table border=\"1\" class=\"dataframe\">\n",
       "  <thead>\n",
       "    <tr style=\"text-align: right;\">\n",
       "      <th></th>\n",
       "      <th>close</th>\n",
       "      <th>high</th>\n",
       "      <th>low</th>\n",
       "      <th>open</th>\n",
       "      <th>priceDate</th>\n",
       "      <th>volume</th>\n",
       "      <th>subkey</th>\n",
       "      <th>updated</th>\n",
       "      <th>changeOverTime</th>\n",
       "      <th>marketChangeOverTime</th>\n",
       "      <th>...</th>\n",
       "      <th>uLow</th>\n",
       "      <th>uVolume</th>\n",
       "      <th>fOpen</th>\n",
       "      <th>fClose</th>\n",
       "      <th>fHigh</th>\n",
       "      <th>fLow</th>\n",
       "      <th>fVolume</th>\n",
       "      <th>label</th>\n",
       "      <th>change</th>\n",
       "      <th>changePercent</th>\n",
       "    </tr>\n",
       "  </thead>\n",
       "  <tbody>\n",
       "    <tr>\n",
       "      <th>count</th>\n",
       "      <td>10509.000000</td>\n",
       "      <td>10509.000000</td>\n",
       "      <td>10509.000000</td>\n",
       "      <td>10509.000000</td>\n",
       "      <td>10509</td>\n",
       "      <td>1.050900e+04</td>\n",
       "      <td>0.0</td>\n",
       "      <td>1.050900e+04</td>\n",
       "      <td>10509.000000</td>\n",
       "      <td>10509.000000</td>\n",
       "      <td>...</td>\n",
       "      <td>10509.000000</td>\n",
       "      <td>1.050900e+04</td>\n",
       "      <td>10509.000000</td>\n",
       "      <td>10509.000000</td>\n",
       "      <td>10509.000000</td>\n",
       "      <td>10509.000000</td>\n",
       "      <td>1.050900e+04</td>\n",
       "      <td>10509</td>\n",
       "      <td>10509.000000</td>\n",
       "      <td>10509.000000</td>\n",
       "    </tr>\n",
       "    <tr>\n",
       "      <th>mean</th>\n",
       "      <td>223.485346</td>\n",
       "      <td>227.252650</td>\n",
       "      <td>219.847448</td>\n",
       "      <td>223.738443</td>\n",
       "      <td>2022-06-30 12:05:32.971738624</td>\n",
       "      <td>2.922589e+07</td>\n",
       "      <td>NaN</td>\n",
       "      <td>1.712387e+12</td>\n",
       "      <td>0.850805</td>\n",
       "      <td>0.850805</td>\n",
       "      <td>...</td>\n",
       "      <td>327.361217</td>\n",
       "      <td>2.455677e+07</td>\n",
       "      <td>161.398618</td>\n",
       "      <td>161.268858</td>\n",
       "      <td>163.939047</td>\n",
       "      <td>158.671194</td>\n",
       "      <td>2.922589e+07</td>\n",
       "      <td>2022-06-30 12:05:32.971738624</td>\n",
       "      <td>-0.925026</td>\n",
       "      <td>-0.001275</td>\n",
       "    </tr>\n",
       "    <tr>\n",
       "      <th>min</th>\n",
       "      <td>25.040000</td>\n",
       "      <td>25.480000</td>\n",
       "      <td>24.590000</td>\n",
       "      <td>24.725000</td>\n",
       "      <td>2022-01-03 00:00:00</td>\n",
       "      <td>1.197767e+06</td>\n",
       "      <td>NaN</td>\n",
       "      <td>1.659625e+12</td>\n",
       "      <td>-0.955650</td>\n",
       "      <td>-0.955650</td>\n",
       "      <td>...</td>\n",
       "      <td>24.590000</td>\n",
       "      <td>7.458600e+05</td>\n",
       "      <td>23.770615</td>\n",
       "      <td>24.073456</td>\n",
       "      <td>24.496472</td>\n",
       "      <td>23.640826</td>\n",
       "      <td>1.197767e+06</td>\n",
       "      <td>2022-01-03 00:00:00</td>\n",
       "      <td>-2322.210000</td>\n",
       "      <td>-0.949000</td>\n",
       "    </tr>\n",
       "    <tr>\n",
       "      <th>25%</th>\n",
       "      <td>96.310000</td>\n",
       "      <td>98.230000</td>\n",
       "      <td>95.030000</td>\n",
       "      <td>96.520000</td>\n",
       "      <td>2022-03-31 00:00:00</td>\n",
       "      <td>7.624161e+06</td>\n",
       "      <td>NaN</td>\n",
       "      <td>1.713002e+12</td>\n",
       "      <td>-0.111187</td>\n",
       "      <td>-0.111187</td>\n",
       "      <td>...</td>\n",
       "      <td>95.030000</td>\n",
       "      <td>6.448739e+06</td>\n",
       "      <td>83.120000</td>\n",
       "      <td>83.139342</td>\n",
       "      <td>84.820000</td>\n",
       "      <td>81.765450</td>\n",
       "      <td>7.624161e+06</td>\n",
       "      <td>2022-03-31 00:00:00</td>\n",
       "      <td>-2.050000</td>\n",
       "      <td>-0.015000</td>\n",
       "    </tr>\n",
       "    <tr>\n",
       "      <th>50%</th>\n",
       "      <td>147.630000</td>\n",
       "      <td>149.675000</td>\n",
       "      <td>145.522505</td>\n",
       "      <td>147.470000</td>\n",
       "      <td>2022-06-29 00:00:00</td>\n",
       "      <td>1.893468e+07</td>\n",
       "      <td>NaN</td>\n",
       "      <td>1.713002e+12</td>\n",
       "      <td>0.233579</td>\n",
       "      <td>0.233579</td>\n",
       "      <td>...</td>\n",
       "      <td>154.950000</td>\n",
       "      <td>1.541502e+07</td>\n",
       "      <td>140.900500</td>\n",
       "      <td>140.489334</td>\n",
       "      <td>142.607750</td>\n",
       "      <td>138.797000</td>\n",
       "      <td>1.893468e+07</td>\n",
       "      <td>2022-06-29 00:00:00</td>\n",
       "      <td>-0.130000</td>\n",
       "      <td>-0.001300</td>\n",
       "    </tr>\n",
       "    <tr>\n",
       "      <th>75%</th>\n",
       "      <td>231.840000</td>\n",
       "      <td>236.600000</td>\n",
       "      <td>226.420000</td>\n",
       "      <td>231.300000</td>\n",
       "      <td>2022-09-29 00:00:00</td>\n",
       "      <td>3.991910e+07</td>\n",
       "      <td>NaN</td>\n",
       "      <td>1.713002e+12</td>\n",
       "      <td>0.483837</td>\n",
       "      <td>0.483837</td>\n",
       "      <td>...</td>\n",
       "      <td>265.610000</td>\n",
       "      <td>3.272002e+07</td>\n",
       "      <td>220.945000</td>\n",
       "      <td>221.420000</td>\n",
       "      <td>225.750000</td>\n",
       "      <td>216.350000</td>\n",
       "      <td>3.991910e+07</td>\n",
       "      <td>2022-09-29 00:00:00</td>\n",
       "      <td>1.660000</td>\n",
       "      <td>0.012500</td>\n",
       "    </tr>\n",
       "    <tr>\n",
       "      <th>max</th>\n",
       "      <td>3408.090000</td>\n",
       "      <td>3428.000000</td>\n",
       "      <td>3357.370000</td>\n",
       "      <td>3408.760000</td>\n",
       "      <td>2022-12-30 00:00:00</td>\n",
       "      <td>2.732081e+08</td>\n",
       "      <td>NaN</td>\n",
       "      <td>1.713003e+12</td>\n",
       "      <td>21.506579</td>\n",
       "      <td>21.506579</td>\n",
       "      <td>...</td>\n",
       "      <td>3357.370000</td>\n",
       "      <td>2.231334e+08</td>\n",
       "      <td>605.610000</td>\n",
       "      <td>597.370000</td>\n",
       "      <td>609.990000</td>\n",
       "      <td>590.560000</td>\n",
       "      <td>2.732081e+08</td>\n",
       "      <td>2022-12-30 00:00:00</td>\n",
       "      <td>375.880000</td>\n",
       "      <td>0.367600</td>\n",
       "    </tr>\n",
       "    <tr>\n",
       "      <th>std</th>\n",
       "      <td>400.097648</td>\n",
       "      <td>407.336922</td>\n",
       "      <td>393.242690</td>\n",
       "      <td>401.052866</td>\n",
       "      <td>NaN</td>\n",
       "      <td>2.963628e+07</td>\n",
       "      <td>NaN</td>\n",
       "      <td>4.184407e+09</td>\n",
       "      <td>3.022659</td>\n",
       "      <td>3.022659</td>\n",
       "      <td>...</td>\n",
       "      <td>594.171843</td>\n",
       "      <td>2.628159e+07</td>\n",
       "      <td>105.304724</td>\n",
       "      <td>105.077810</td>\n",
       "      <td>107.072277</td>\n",
       "      <td>103.192552</td>\n",
       "      <td>2.963628e+07</td>\n",
       "      <td>NaN</td>\n",
       "      <td>35.270362</td>\n",
       "      <td>0.030460</td>\n",
       "    </tr>\n",
       "  </tbody>\n",
       "</table>\n",
       "<p>8 rows × 23 columns</p>\n",
       "</div>"
      ],
      "text/plain": [
       "              close          high           low          open  \\\n",
       "count  10509.000000  10509.000000  10509.000000  10509.000000   \n",
       "mean     223.485346    227.252650    219.847448    223.738443   \n",
       "min       25.040000     25.480000     24.590000     24.725000   \n",
       "25%       96.310000     98.230000     95.030000     96.520000   \n",
       "50%      147.630000    149.675000    145.522505    147.470000   \n",
       "75%      231.840000    236.600000    226.420000    231.300000   \n",
       "max     3408.090000   3428.000000   3357.370000   3408.760000   \n",
       "std      400.097648    407.336922    393.242690    401.052866   \n",
       "\n",
       "                           priceDate        volume  subkey       updated  \\\n",
       "count                          10509  1.050900e+04     0.0  1.050900e+04   \n",
       "mean   2022-06-30 12:05:32.971738624  2.922589e+07     NaN  1.712387e+12   \n",
       "min              2022-01-03 00:00:00  1.197767e+06     NaN  1.659625e+12   \n",
       "25%              2022-03-31 00:00:00  7.624161e+06     NaN  1.713002e+12   \n",
       "50%              2022-06-29 00:00:00  1.893468e+07     NaN  1.713002e+12   \n",
       "75%              2022-09-29 00:00:00  3.991910e+07     NaN  1.713002e+12   \n",
       "max              2022-12-30 00:00:00  2.732081e+08     NaN  1.713003e+12   \n",
       "std                              NaN  2.963628e+07     NaN  4.184407e+09   \n",
       "\n",
       "       changeOverTime  marketChangeOverTime  ...          uLow       uVolume  \\\n",
       "count    10509.000000          10509.000000  ...  10509.000000  1.050900e+04   \n",
       "mean         0.850805              0.850805  ...    327.361217  2.455677e+07   \n",
       "min         -0.955650             -0.955650  ...     24.590000  7.458600e+05   \n",
       "25%         -0.111187             -0.111187  ...     95.030000  6.448739e+06   \n",
       "50%          0.233579              0.233579  ...    154.950000  1.541502e+07   \n",
       "75%          0.483837              0.483837  ...    265.610000  3.272002e+07   \n",
       "max         21.506579             21.506579  ...   3357.370000  2.231334e+08   \n",
       "std          3.022659              3.022659  ...    594.171843  2.628159e+07   \n",
       "\n",
       "              fOpen        fClose         fHigh          fLow       fVolume  \\\n",
       "count  10509.000000  10509.000000  10509.000000  10509.000000  1.050900e+04   \n",
       "mean     161.398618    161.268858    163.939047    158.671194  2.922589e+07   \n",
       "min       23.770615     24.073456     24.496472     23.640826  1.197767e+06   \n",
       "25%       83.120000     83.139342     84.820000     81.765450  7.624161e+06   \n",
       "50%      140.900500    140.489334    142.607750    138.797000  1.893468e+07   \n",
       "75%      220.945000    221.420000    225.750000    216.350000  3.991910e+07   \n",
       "max      605.610000    597.370000    609.990000    590.560000  2.732081e+08   \n",
       "std      105.304724    105.077810    107.072277    103.192552  2.963628e+07   \n",
       "\n",
       "                               label        change  changePercent  \n",
       "count                          10509  10509.000000   10509.000000  \n",
       "mean   2022-06-30 12:05:32.971738624     -0.925026      -0.001275  \n",
       "min              2022-01-03 00:00:00  -2322.210000      -0.949000  \n",
       "25%              2022-03-31 00:00:00     -2.050000      -0.015000  \n",
       "50%              2022-06-29 00:00:00     -0.130000      -0.001300  \n",
       "75%              2022-09-29 00:00:00      1.660000       0.012500  \n",
       "max              2022-12-30 00:00:00    375.880000       0.367600  \n",
       "std                              NaN     35.270362       0.030460  \n",
       "\n",
       "[8 rows x 23 columns]"
      ]
     },
     "execution_count": 4,
     "metadata": {},
     "output_type": "execute_result"
    }
   ],
   "source": [
    "stocks_df.describe()"
   ]
  },
  {
   "cell_type": "code",
   "execution_count": 5,
   "metadata": {},
   "outputs": [
    {
     "data": {
      "text/plain": [
       "(10509, 27)"
      ]
     },
     "execution_count": 5,
     "metadata": {},
     "output_type": "execute_result"
    }
   ],
   "source": [
    "stocks_df.shape"
   ]
  },
  {
   "cell_type": "code",
   "execution_count": 6,
   "metadata": {},
   "outputs": [
    {
     "data": {
      "text/plain": [
       "close                          float64\n",
       "high                           float64\n",
       "low                            float64\n",
       "open                           float64\n",
       "priceDate               datetime64[ns]\n",
       "symbol                          object\n",
       "volume                         float64\n",
       "id                              object\n",
       "key                             object\n",
       "subkey                         float64\n",
       "updated                        float64\n",
       "changeOverTime                 float64\n",
       "marketChangeOverTime           float64\n",
       "uOpen                          float64\n",
       "uClose                         float64\n",
       "uHigh                          float64\n",
       "uLow                           float64\n",
       "uVolume                          int64\n",
       "fOpen                          float64\n",
       "fClose                         float64\n",
       "fHigh                          float64\n",
       "fLow                           float64\n",
       "fVolume                        float64\n",
       "label                   datetime64[ns]\n",
       "change                         float64\n",
       "changePercent                  float64\n",
       "Name                            object\n",
       "dtype: object"
      ]
     },
     "execution_count": 6,
     "metadata": {},
     "output_type": "execute_result"
    }
   ],
   "source": [
    "stocks_df.dtypes"
   ]
  },
  {
   "cell_type": "markdown",
   "metadata": {},
   "source": [
    "## Data Cleaning"
   ]
  },
  {
   "cell_type": "code",
   "execution_count": 7,
   "metadata": {},
   "outputs": [
    {
     "data": {
      "text/plain": [
       "close                       0\n",
       "high                        0\n",
       "low                         0\n",
       "open                        0\n",
       "priceDate                   0\n",
       "symbol                      0\n",
       "volume                      0\n",
       "id                          0\n",
       "key                         0\n",
       "subkey                  10509\n",
       "updated                     0\n",
       "changeOverTime              0\n",
       "marketChangeOverTime        0\n",
       "uOpen                       0\n",
       "uClose                      0\n",
       "uHigh                       0\n",
       "uLow                        0\n",
       "uVolume                     0\n",
       "fOpen                       0\n",
       "fClose                      0\n",
       "fHigh                       0\n",
       "fLow                        0\n",
       "fVolume                     0\n",
       "label                       0\n",
       "change                      0\n",
       "changePercent               0\n",
       "Name                        0\n",
       "dtype: int64"
      ]
     },
     "execution_count": 7,
     "metadata": {},
     "output_type": "execute_result"
    }
   ],
   "source": [
    "stocks_df.isna().sum()"
   ]
  },
  {
   "cell_type": "code",
   "execution_count": 8,
   "metadata": {},
   "outputs": [],
   "source": [
    "def missing_values(data):\n",
    "    # identify the total missing values per column\n",
    "    # sort in order\n",
    "    miss = data.isnull().sum().sort_values(ascending = False)\n",
    "\n",
    "    # calculate percentage of the missing values\n",
    "    percentage_miss = (data.isnull().sum() / len(data)).sort_values(ascending = False)\n",
    "\n",
    "    # store in a dataframe\n",
    "    missing = pd.DataFrame({\"Missing Values\": miss, \"Percentage\": percentage_miss}).reset_index()\n",
    "\n",
    "    # remove values that are missing\n",
    "    missing.drop(missing[missing[\"Percentage\"] == 0].index, inplace = True)\n",
    "\n",
    "    return missing"
   ]
  },
  {
   "cell_type": "code",
   "execution_count": 9,
   "metadata": {},
   "outputs": [
    {
     "data": {
      "text/html": [
       "<div>\n",
       "<style scoped>\n",
       "    .dataframe tbody tr th:only-of-type {\n",
       "        vertical-align: middle;\n",
       "    }\n",
       "\n",
       "    .dataframe tbody tr th {\n",
       "        vertical-align: top;\n",
       "    }\n",
       "\n",
       "    .dataframe thead th {\n",
       "        text-align: right;\n",
       "    }\n",
       "</style>\n",
       "<table border=\"1\" class=\"dataframe\">\n",
       "  <thead>\n",
       "    <tr style=\"text-align: right;\">\n",
       "      <th></th>\n",
       "      <th>index</th>\n",
       "      <th>Missing Values</th>\n",
       "      <th>Percentage</th>\n",
       "    </tr>\n",
       "  </thead>\n",
       "  <tbody>\n",
       "    <tr>\n",
       "      <th>0</th>\n",
       "      <td>subkey</td>\n",
       "      <td>10509</td>\n",
       "      <td>1.0</td>\n",
       "    </tr>\n",
       "  </tbody>\n",
       "</table>\n",
       "</div>"
      ],
      "text/plain": [
       "    index  Missing Values  Percentage\n",
       "0  subkey           10509         1.0"
      ]
     },
     "execution_count": 9,
     "metadata": {},
     "output_type": "execute_result"
    }
   ],
   "source": [
    "missing_data = missing_values(stocks_df)\n",
    "missing_data"
   ]
  },
  {
   "cell_type": "code",
   "execution_count": 10,
   "metadata": {},
   "outputs": [
    {
     "data": {
      "text/plain": [
       "close                   0\n",
       "high                    0\n",
       "low                     0\n",
       "open                    0\n",
       "priceDate               0\n",
       "symbol                  0\n",
       "volume                  0\n",
       "id                      0\n",
       "key                     0\n",
       "updated                 0\n",
       "changeOverTime          0\n",
       "marketChangeOverTime    0\n",
       "uOpen                   0\n",
       "uClose                  0\n",
       "uHigh                   0\n",
       "uLow                    0\n",
       "uVolume                 0\n",
       "fOpen                   0\n",
       "fClose                  0\n",
       "fHigh                   0\n",
       "fLow                    0\n",
       "fVolume                 0\n",
       "label                   0\n",
       "change                  0\n",
       "changePercent           0\n",
       "Name                    0\n",
       "dtype: int64"
      ]
     },
     "execution_count": 10,
     "metadata": {},
     "output_type": "execute_result"
    }
   ],
   "source": [
    "stocks_df = stocks_df.drop('subkey', axis = 1)\n",
    "stocks_df.isna().sum()"
   ]
  },
  {
   "cell_type": "code",
   "execution_count": 11,
   "metadata": {},
   "outputs": [],
   "source": [
    "## set priceDate  as index\n",
    "stocks_df.set_index('priceDate', inplace = True)"
   ]
  },
  {
   "cell_type": "code",
   "execution_count": 12,
   "metadata": {},
   "outputs": [
    {
     "data": {
      "text/plain": [
       "DatetimeIndex(['2022-01-03', '2022-01-04', '2022-01-05', '2022-01-06',\n",
       "               '2022-01-07', '2022-01-10', '2022-01-11', '2022-01-12',\n",
       "               '2022-01-13', '2022-01-14',\n",
       "               ...\n",
       "               '2022-12-16', '2022-12-19', '2022-12-20', '2022-12-21',\n",
       "               '2022-12-22', '2022-12-23', '2022-12-27', '2022-12-28',\n",
       "               '2022-12-29', '2022-12-30'],\n",
       "              dtype='datetime64[ns]', name='priceDate', length=10509, freq=None)"
      ]
     },
     "execution_count": 12,
     "metadata": {},
     "output_type": "execute_result"
    }
   ],
   "source": [
    "stocks_df.index"
   ]
  },
  {
   "cell_type": "markdown",
   "metadata": {},
   "source": [
    "## Consistency\n",
    "\n",
    "For the data to be constisten, I need to resolve any inconsistenices by checking for duplicatie values in our data"
   ]
  },
  {
   "cell_type": "code",
   "execution_count": 13,
   "metadata": {},
   "outputs": [
    {
     "name": "stdout",
     "output_type": "stream",
     "text": [
      "The data has 3874 duplicates\n"
     ]
    }
   ],
   "source": [
    "# checking for duplicates\n",
    "print(f'The data has {stocks_df.duplicated().sum()} duplicates')"
   ]
  },
  {
   "cell_type": "code",
   "execution_count": 14,
   "metadata": {},
   "outputs": [
    {
     "name": "stdout",
     "output_type": "stream",
     "text": [
      "The data has 0 duplicates removed.\n"
     ]
    }
   ],
   "source": [
    "stocks_df.drop_duplicates(inplace=True)\n",
    "print(f'The data has {stocks_df.duplicated().sum()} duplicates removed.')\n",
    " "
   ]
  },
  {
   "cell_type": "code",
   "execution_count": 15,
   "metadata": {},
   "outputs": [
    {
     "data": {
      "text/plain": [
       "(6635, 25)"
      ]
     },
     "execution_count": 15,
     "metadata": {},
     "output_type": "execute_result"
    }
   ],
   "source": [
    "stocks_df.shape"
   ]
  },
  {
   "cell_type": "markdown",
   "metadata": {},
   "source": [
    "## Feature Engineering"
   ]
  },
  {
   "cell_type": "code",
   "execution_count": 16,
   "metadata": {},
   "outputs": [
    {
     "name": "stdout",
     "output_type": "stream",
     "text": [
      "            day_of_week  month  quarter  year\n",
      "priceDate                                    \n",
      "2022-01-03            0      1        1  2022\n",
      "2022-01-04            1      1        1  2022\n",
      "2022-01-05            2      1        1  2022\n",
      "2022-01-06            3      1        1  2022\n",
      "2022-01-07            4      1        1  2022\n"
     ]
    }
   ],
   "source": [
    "# 1. Extract date-time features\n",
    "stocks_df['day_of_week'] = stocks_df.index.dayofweek\n",
    "stocks_df['month'] = stocks_df.index.month\n",
    "stocks_df['quarter'] = stocks_df.index.quarter\n",
    "stocks_df['year'] = stocks_df.index.year\n",
    "\n",
    "print(stocks_df[['day_of_week', 'month', 'quarter', 'year']].head())"
   ]
  },
  {
   "cell_type": "markdown",
   "metadata": {},
   "source": [
    "**Moving averages to highlight longer-term trends or cycles in the data**."
   ]
  },
  {
   "cell_type": "code",
   "execution_count": 17,
   "metadata": {},
   "outputs": [],
   "source": [
    "# 2. Calculate moving averages\n",
    "stocks_df['7_day_ma'] = stocks_df['close'].rolling(window=7).mean()\n",
    "stocks_df['30_day_ma'] = stocks_df['close'].rolling(window=30).mean()"
   ]
  },
  {
   "cell_type": "markdown",
   "metadata": {},
   "source": [
    "Volatility measures will help quantify the degree of variation in the price over time"
   ]
  },
  {
   "cell_type": "code",
   "execution_count": 18,
   "metadata": {},
   "outputs": [],
   "source": [
    "# 3. Calculate volatility measures\n",
    "stocks_df['close_std'] = stocks_df['close'].rolling(window=7).std()"
   ]
  },
  {
   "cell_type": "markdown",
   "metadata": {},
   "source": [
    "#### Relative Strength Index (RSI)"
   ]
  },
  {
   "cell_type": "code",
   "execution_count": 19,
   "metadata": {},
   "outputs": [],
   "source": [
    "# 4. Calculate RSI\n",
    "def calculate_rsi(series, window=14):\n",
    "    delta = series.diff()\n",
    "    gain = (delta.where(delta > 0, 0)).rolling(window=window).mean()\n",
    "    loss = (-delta.where(delta < 0, 0)).rolling(window=window).mean()\n",
    "    rs = gain / loss\n",
    "    rsi = 100 - (100 / (1 + rs))\n",
    "    return rsi\n",
    "\n",
    "stocks_df['rsi'] = calculate_rsi(stocks_df['close'])"
   ]
  },
  {
   "cell_type": "markdown",
   "metadata": {},
   "source": [
    "Create lag features to represent the past values of that variable over a specified time period."
   ]
  },
  {
   "cell_type": "code",
   "execution_count": 20,
   "metadata": {},
   "outputs": [],
   "source": [
    "# 5. Create lag features\n",
    "stocks_df['close_lag_1'] = stocks_df['close'].shift(1)\n",
    "stocks_df['close_lag_7'] = stocks_df['close'].shift(7)"
   ]
  },
  {
   "cell_type": "code",
   "execution_count": 21,
   "metadata": {},
   "outputs": [],
   "source": [
    "# 6. Calculate percentage change\n",
    "stocks_df['close_pct_change'] = stocks_df['close'].pct_change()"
   ]
  },
  {
   "cell_type": "code",
   "execution_count": 22,
   "metadata": {},
   "outputs": [
    {
     "data": {
      "text/html": [
       "<div>\n",
       "<style scoped>\n",
       "    .dataframe tbody tr th:only-of-type {\n",
       "        vertical-align: middle;\n",
       "    }\n",
       "\n",
       "    .dataframe tbody tr th {\n",
       "        vertical-align: top;\n",
       "    }\n",
       "\n",
       "    .dataframe thead th {\n",
       "        text-align: right;\n",
       "    }\n",
       "</style>\n",
       "<table border=\"1\" class=\"dataframe\">\n",
       "  <thead>\n",
       "    <tr style=\"text-align: right;\">\n",
       "      <th></th>\n",
       "      <th>close</th>\n",
       "      <th>high</th>\n",
       "      <th>low</th>\n",
       "      <th>open</th>\n",
       "      <th>symbol</th>\n",
       "      <th>volume</th>\n",
       "      <th>id</th>\n",
       "      <th>key</th>\n",
       "      <th>updated</th>\n",
       "      <th>changeOverTime</th>\n",
       "      <th>...</th>\n",
       "      <th>month</th>\n",
       "      <th>quarter</th>\n",
       "      <th>year</th>\n",
       "      <th>7_day_ma</th>\n",
       "      <th>30_day_ma</th>\n",
       "      <th>close_std</th>\n",
       "      <th>rsi</th>\n",
       "      <th>close_lag_1</th>\n",
       "      <th>close_lag_7</th>\n",
       "      <th>close_pct_change</th>\n",
       "    </tr>\n",
       "    <tr>\n",
       "      <th>priceDate</th>\n",
       "      <th></th>\n",
       "      <th></th>\n",
       "      <th></th>\n",
       "      <th></th>\n",
       "      <th></th>\n",
       "      <th></th>\n",
       "      <th></th>\n",
       "      <th></th>\n",
       "      <th></th>\n",
       "      <th></th>\n",
       "      <th></th>\n",
       "      <th></th>\n",
       "      <th></th>\n",
       "      <th></th>\n",
       "      <th></th>\n",
       "      <th></th>\n",
       "      <th></th>\n",
       "      <th></th>\n",
       "      <th></th>\n",
       "      <th></th>\n",
       "      <th></th>\n",
       "    </tr>\n",
       "  </thead>\n",
       "  <tbody>\n",
       "    <tr>\n",
       "      <th>2022-01-03</th>\n",
       "      <td>182.01</td>\n",
       "      <td>182.88</td>\n",
       "      <td>177.71</td>\n",
       "      <td>177.83</td>\n",
       "      <td>AAPL</td>\n",
       "      <td>104701220.0</td>\n",
       "      <td>HISTORICAL_PRICES</td>\n",
       "      <td>AAPL</td>\n",
       "      <td>1.713001e+12</td>\n",
       "      <td>-0.086433</td>\n",
       "      <td>...</td>\n",
       "      <td>1</td>\n",
       "      <td>1</td>\n",
       "      <td>2022</td>\n",
       "      <td>NaN</td>\n",
       "      <td>NaN</td>\n",
       "      <td>NaN</td>\n",
       "      <td>NaN</td>\n",
       "      <td>NaN</td>\n",
       "      <td>NaN</td>\n",
       "      <td>NaN</td>\n",
       "    </tr>\n",
       "    <tr>\n",
       "      <th>2022-01-04</th>\n",
       "      <td>179.70</td>\n",
       "      <td>182.94</td>\n",
       "      <td>179.12</td>\n",
       "      <td>182.63</td>\n",
       "      <td>AAPL</td>\n",
       "      <td>99310438.0</td>\n",
       "      <td>HISTORICAL_PRICES</td>\n",
       "      <td>AAPL</td>\n",
       "      <td>1.713001e+12</td>\n",
       "      <td>-0.098027</td>\n",
       "      <td>...</td>\n",
       "      <td>1</td>\n",
       "      <td>1</td>\n",
       "      <td>2022</td>\n",
       "      <td>NaN</td>\n",
       "      <td>NaN</td>\n",
       "      <td>NaN</td>\n",
       "      <td>NaN</td>\n",
       "      <td>182.01</td>\n",
       "      <td>NaN</td>\n",
       "      <td>-0.012692</td>\n",
       "    </tr>\n",
       "    <tr>\n",
       "      <th>2022-01-05</th>\n",
       "      <td>174.92</td>\n",
       "      <td>180.17</td>\n",
       "      <td>174.64</td>\n",
       "      <td>179.61</td>\n",
       "      <td>AAPL</td>\n",
       "      <td>94537602.0</td>\n",
       "      <td>HISTORICAL_PRICES</td>\n",
       "      <td>AAPL</td>\n",
       "      <td>1.713001e+12</td>\n",
       "      <td>-0.122020</td>\n",
       "      <td>...</td>\n",
       "      <td>1</td>\n",
       "      <td>1</td>\n",
       "      <td>2022</td>\n",
       "      <td>NaN</td>\n",
       "      <td>NaN</td>\n",
       "      <td>NaN</td>\n",
       "      <td>NaN</td>\n",
       "      <td>179.70</td>\n",
       "      <td>NaN</td>\n",
       "      <td>-0.026600</td>\n",
       "    </tr>\n",
       "    <tr>\n",
       "      <th>2022-01-06</th>\n",
       "      <td>172.00</td>\n",
       "      <td>175.30</td>\n",
       "      <td>171.64</td>\n",
       "      <td>172.70</td>\n",
       "      <td>AAPL</td>\n",
       "      <td>96903955.0</td>\n",
       "      <td>HISTORICAL_PRICES</td>\n",
       "      <td>AAPL</td>\n",
       "      <td>1.713001e+12</td>\n",
       "      <td>-0.136676</td>\n",
       "      <td>...</td>\n",
       "      <td>1</td>\n",
       "      <td>1</td>\n",
       "      <td>2022</td>\n",
       "      <td>NaN</td>\n",
       "      <td>NaN</td>\n",
       "      <td>NaN</td>\n",
       "      <td>NaN</td>\n",
       "      <td>174.92</td>\n",
       "      <td>NaN</td>\n",
       "      <td>-0.016693</td>\n",
       "    </tr>\n",
       "    <tr>\n",
       "      <th>2022-01-07</th>\n",
       "      <td>172.17</td>\n",
       "      <td>174.14</td>\n",
       "      <td>171.03</td>\n",
       "      <td>172.89</td>\n",
       "      <td>AAPL</td>\n",
       "      <td>86709147.0</td>\n",
       "      <td>HISTORICAL_PRICES</td>\n",
       "      <td>AAPL</td>\n",
       "      <td>1.713001e+12</td>\n",
       "      <td>-0.135823</td>\n",
       "      <td>...</td>\n",
       "      <td>1</td>\n",
       "      <td>1</td>\n",
       "      <td>2022</td>\n",
       "      <td>NaN</td>\n",
       "      <td>NaN</td>\n",
       "      <td>NaN</td>\n",
       "      <td>NaN</td>\n",
       "      <td>172.00</td>\n",
       "      <td>NaN</td>\n",
       "      <td>0.000988</td>\n",
       "    </tr>\n",
       "  </tbody>\n",
       "</table>\n",
       "<p>5 rows × 36 columns</p>\n",
       "</div>"
      ],
      "text/plain": [
       "             close    high     low    open symbol       volume  \\\n",
       "priceDate                                                        \n",
       "2022-01-03  182.01  182.88  177.71  177.83   AAPL  104701220.0   \n",
       "2022-01-04  179.70  182.94  179.12  182.63   AAPL   99310438.0   \n",
       "2022-01-05  174.92  180.17  174.64  179.61   AAPL   94537602.0   \n",
       "2022-01-06  172.00  175.30  171.64  172.70   AAPL   96903955.0   \n",
       "2022-01-07  172.17  174.14  171.03  172.89   AAPL   86709147.0   \n",
       "\n",
       "                           id   key       updated  changeOverTime  ...  month  \\\n",
       "priceDate                                                          ...          \n",
       "2022-01-03  HISTORICAL_PRICES  AAPL  1.713001e+12       -0.086433  ...      1   \n",
       "2022-01-04  HISTORICAL_PRICES  AAPL  1.713001e+12       -0.098027  ...      1   \n",
       "2022-01-05  HISTORICAL_PRICES  AAPL  1.713001e+12       -0.122020  ...      1   \n",
       "2022-01-06  HISTORICAL_PRICES  AAPL  1.713001e+12       -0.136676  ...      1   \n",
       "2022-01-07  HISTORICAL_PRICES  AAPL  1.713001e+12       -0.135823  ...      1   \n",
       "\n",
       "            quarter  year  7_day_ma  30_day_ma  close_std  rsi  close_lag_1  \\\n",
       "priceDate                                                                     \n",
       "2022-01-03        1  2022       NaN        NaN        NaN  NaN          NaN   \n",
       "2022-01-04        1  2022       NaN        NaN        NaN  NaN       182.01   \n",
       "2022-01-05        1  2022       NaN        NaN        NaN  NaN       179.70   \n",
       "2022-01-06        1  2022       NaN        NaN        NaN  NaN       174.92   \n",
       "2022-01-07        1  2022       NaN        NaN        NaN  NaN       172.00   \n",
       "\n",
       "            close_lag_7  close_pct_change  \n",
       "priceDate                                  \n",
       "2022-01-03          NaN               NaN  \n",
       "2022-01-04          NaN         -0.012692  \n",
       "2022-01-05          NaN         -0.026600  \n",
       "2022-01-06          NaN         -0.016693  \n",
       "2022-01-07          NaN          0.000988  \n",
       "\n",
       "[5 rows x 36 columns]"
      ]
     },
     "execution_count": 22,
     "metadata": {},
     "output_type": "execute_result"
    }
   ],
   "source": [
    "# Display the modified DataFrame\n",
    "stocks_df.head()"
   ]
  },
  {
   "cell_type": "code",
   "execution_count": 32,
   "metadata": {},
   "outputs": [
    {
     "data": {
      "text/html": [
       "<div>\n",
       "<style scoped>\n",
       "    .dataframe tbody tr th:only-of-type {\n",
       "        vertical-align: middle;\n",
       "    }\n",
       "\n",
       "    .dataframe tbody tr th {\n",
       "        vertical-align: top;\n",
       "    }\n",
       "\n",
       "    .dataframe thead th {\n",
       "        text-align: right;\n",
       "    }\n",
       "</style>\n",
       "<table border=\"1\" class=\"dataframe\">\n",
       "  <thead>\n",
       "    <tr style=\"text-align: right;\">\n",
       "      <th></th>\n",
       "      <th>index</th>\n",
       "      <th>Missing Values</th>\n",
       "      <th>Percentage</th>\n",
       "    </tr>\n",
       "  </thead>\n",
       "  <tbody>\n",
       "    <tr>\n",
       "      <th>0</th>\n",
       "      <td>30_day_ma</td>\n",
       "      <td>29</td>\n",
       "      <td>0.004371</td>\n",
       "    </tr>\n",
       "    <tr>\n",
       "      <th>1</th>\n",
       "      <td>rsi</td>\n",
       "      <td>13</td>\n",
       "      <td>0.001959</td>\n",
       "    </tr>\n",
       "    <tr>\n",
       "      <th>2</th>\n",
       "      <td>close_lag_7</td>\n",
       "      <td>7</td>\n",
       "      <td>0.001055</td>\n",
       "    </tr>\n",
       "    <tr>\n",
       "      <th>3</th>\n",
       "      <td>close_std</td>\n",
       "      <td>6</td>\n",
       "      <td>0.000904</td>\n",
       "    </tr>\n",
       "    <tr>\n",
       "      <th>4</th>\n",
       "      <td>7_day_ma</td>\n",
       "      <td>6</td>\n",
       "      <td>0.000904</td>\n",
       "    </tr>\n",
       "    <tr>\n",
       "      <th>5</th>\n",
       "      <td>close_pct_change</td>\n",
       "      <td>1</td>\n",
       "      <td>0.000151</td>\n",
       "    </tr>\n",
       "    <tr>\n",
       "      <th>6</th>\n",
       "      <td>close_lag_1</td>\n",
       "      <td>1</td>\n",
       "      <td>0.000151</td>\n",
       "    </tr>\n",
       "  </tbody>\n",
       "</table>\n",
       "</div>"
      ],
      "text/plain": [
       "              index  Missing Values  Percentage\n",
       "0         30_day_ma              29    0.004371\n",
       "1               rsi              13    0.001959\n",
       "2       close_lag_7               7    0.001055\n",
       "3         close_std               6    0.000904\n",
       "4          7_day_ma               6    0.000904\n",
       "5  close_pct_change               1    0.000151\n",
       "6       close_lag_1               1    0.000151"
      ]
     },
     "execution_count": 32,
     "metadata": {},
     "output_type": "execute_result"
    }
   ],
   "source": [
    "missing_data = missing_values(stocks_df)\n",
    "missing_data"
   ]
  },
  {
   "cell_type": "markdown",
   "metadata": {},
   "source": [
    "They are missing values in the following columns:\r\n",
    "\r\n",
    "- 7_day_ma\r\n",
    "- 30_day_ma\r\n",
    "- close_std\r\n",
    "- rsi\r\n",
    "- close_lag_1\r\n",
    "- close_lag_7\r\n",
    "- close_pct_change\r\n",
    "\r\n",
    "The percentage of missing values in the above columns is very low. Therefore, the rows with missing values can b dropped.\r\n",
    "dropped.\r\n",
    " \r\n",
    "            1"
   ]
  },
  {
   "cell_type": "code",
   "execution_count": 33,
   "metadata": {},
   "outputs": [],
   "source": [
    "# Drop rows with missing values in specified columns\n",
    "columns_with_missing = ['7_day_ma', '30_day_ma', 'close_std', 'rsi', 'close_lag_1', 'close_lag_7', 'close_pct_change']\n",
    "stocks_df.dropna(subset=columns_with_missing, inplace=True)"
   ]
  },
  {
   "cell_type": "code",
   "execution_count": 34,
   "metadata": {},
   "outputs": [
    {
     "data": {
      "text/plain": [
       "close                   0\n",
       "high                    0\n",
       "low                     0\n",
       "open                    0\n",
       "symbol                  0\n",
       "volume                  0\n",
       "id                      0\n",
       "key                     0\n",
       "updated                 0\n",
       "changeOverTime          0\n",
       "marketChangeOverTime    0\n",
       "uOpen                   0\n",
       "uClose                  0\n",
       "uHigh                   0\n",
       "uLow                    0\n",
       "uVolume                 0\n",
       "fOpen                   0\n",
       "fClose                  0\n",
       "fHigh                   0\n",
       "fLow                    0\n",
       "fVolume                 0\n",
       "label                   0\n",
       "change                  0\n",
       "changePercent           0\n",
       "Name                    0\n",
       "day_of_week             0\n",
       "month                   0\n",
       "quarter                 0\n",
       "year                    0\n",
       "7_day_ma                0\n",
       "30_day_ma               0\n",
       "close_std               0\n",
       "rsi                     0\n",
       "close_lag_1             0\n",
       "close_lag_7             0\n",
       "close_pct_change        0\n",
       "dtype: int64"
      ]
     },
     "execution_count": 34,
     "metadata": {},
     "output_type": "execute_result"
    }
   ],
   "source": [
    "stocks_df.isna().sum()"
   ]
  },
  {
   "cell_type": "markdown",
   "metadata": {},
   "source": [
    "## Exploratory Data Analysis"
   ]
  },
  {
   "cell_type": "code",
   "execution_count": 24,
   "metadata": {},
   "outputs": [
    {
     "ename": "KeyError",
     "evalue": "'Value based partial slicing on non-monotonic DatetimeIndexes with non-existing keys is not allowed.'",
     "output_type": "error",
     "traceback": [
      "\u001b[1;31m---------------------------------------------------------------------------\u001b[0m",
      "\u001b[1;31mKeyError\u001b[0m                                  Traceback (most recent call last)",
      "Cell \u001b[1;32mIn[24], line 6\u001b[0m\n\u001b[0;32m      3\u001b[0m end_date \u001b[38;5;241m=\u001b[39m \u001b[38;5;124m'\u001b[39m\u001b[38;5;124m2022-12-30\u001b[39m\u001b[38;5;124m'\u001b[39m\n\u001b[0;32m      5\u001b[0m \u001b[38;5;66;03m# Slice the DataFrame to include only data within the specified date range\u001b[39;00m\n\u001b[1;32m----> 6\u001b[0m sliced_df \u001b[38;5;241m=\u001b[39m stocks_df[start_date:end_date]\n\u001b[0;32m      8\u001b[0m \u001b[38;5;66;03m# Plot the sliced DataFrame\u001b[39;00m\n\u001b[0;32m      9\u001b[0m sliced_df\u001b[38;5;241m.\u001b[39mplot(figsize\u001b[38;5;241m=\u001b[39m(\u001b[38;5;241m30\u001b[39m, \u001b[38;5;241m15\u001b[39m))\n",
      "File \u001b[1;32m~\\anaconda3\\Lib\\site-packages\\pandas\\core\\frame.py:3876\u001b[0m, in \u001b[0;36mDataFrame.__getitem__\u001b[1;34m(self, key)\u001b[0m\n\u001b[0;32m   3874\u001b[0m \u001b[38;5;66;03m# Do we have a slicer (on rows)?\u001b[39;00m\n\u001b[0;32m   3875\u001b[0m \u001b[38;5;28;01mif\u001b[39;00m \u001b[38;5;28misinstance\u001b[39m(key, \u001b[38;5;28mslice\u001b[39m):\n\u001b[1;32m-> 3876\u001b[0m     \u001b[38;5;28;01mreturn\u001b[39;00m \u001b[38;5;28mself\u001b[39m\u001b[38;5;241m.\u001b[39m_getitem_slice(key)\n\u001b[0;32m   3878\u001b[0m \u001b[38;5;66;03m# Do we have a (boolean) DataFrame?\u001b[39;00m\n\u001b[0;32m   3879\u001b[0m \u001b[38;5;28;01mif\u001b[39;00m \u001b[38;5;28misinstance\u001b[39m(key, DataFrame):\n",
      "File \u001b[1;32m~\\anaconda3\\Lib\\site-packages\\pandas\\core\\generic.py:4284\u001b[0m, in \u001b[0;36mNDFrame._getitem_slice\u001b[1;34m(self, key)\u001b[0m\n\u001b[0;32m   4279\u001b[0m \u001b[38;5;250m\u001b[39m\u001b[38;5;124;03m\"\"\"\u001b[39;00m\n\u001b[0;32m   4280\u001b[0m \u001b[38;5;124;03m__getitem__ for the case where the key is a slice object.\u001b[39;00m\n\u001b[0;32m   4281\u001b[0m \u001b[38;5;124;03m\"\"\"\u001b[39;00m\n\u001b[0;32m   4282\u001b[0m \u001b[38;5;66;03m# _convert_slice_indexer to determine if this slice is positional\u001b[39;00m\n\u001b[0;32m   4283\u001b[0m \u001b[38;5;66;03m#  or label based, and if the latter, convert to positional\u001b[39;00m\n\u001b[1;32m-> 4284\u001b[0m slobj \u001b[38;5;241m=\u001b[39m \u001b[38;5;28mself\u001b[39m\u001b[38;5;241m.\u001b[39mindex\u001b[38;5;241m.\u001b[39m_convert_slice_indexer(key, kind\u001b[38;5;241m=\u001b[39m\u001b[38;5;124m\"\u001b[39m\u001b[38;5;124mgetitem\u001b[39m\u001b[38;5;124m\"\u001b[39m)\n\u001b[0;32m   4285\u001b[0m \u001b[38;5;28;01mif\u001b[39;00m \u001b[38;5;28misinstance\u001b[39m(slobj, np\u001b[38;5;241m.\u001b[39mndarray):\n\u001b[0;32m   4286\u001b[0m     \u001b[38;5;66;03m# reachable with DatetimeIndex\u001b[39;00m\n\u001b[0;32m   4287\u001b[0m     indexer \u001b[38;5;241m=\u001b[39m lib\u001b[38;5;241m.\u001b[39mmaybe_indices_to_slice(\n\u001b[0;32m   4288\u001b[0m         slobj\u001b[38;5;241m.\u001b[39mastype(np\u001b[38;5;241m.\u001b[39mintp, copy\u001b[38;5;241m=\u001b[39m\u001b[38;5;28;01mFalse\u001b[39;00m), \u001b[38;5;28mlen\u001b[39m(\u001b[38;5;28mself\u001b[39m)\n\u001b[0;32m   4289\u001b[0m     )\n",
      "File \u001b[1;32m~\\anaconda3\\Lib\\site-packages\\pandas\\core\\indexes\\base.py:4286\u001b[0m, in \u001b[0;36mIndex._convert_slice_indexer\u001b[1;34m(self, key, kind)\u001b[0m\n\u001b[0;32m   4284\u001b[0m     indexer \u001b[38;5;241m=\u001b[39m key\n\u001b[0;32m   4285\u001b[0m \u001b[38;5;28;01melse\u001b[39;00m:\n\u001b[1;32m-> 4286\u001b[0m     indexer \u001b[38;5;241m=\u001b[39m \u001b[38;5;28mself\u001b[39m\u001b[38;5;241m.\u001b[39mslice_indexer(start, stop, step)\n\u001b[0;32m   4288\u001b[0m \u001b[38;5;28;01mreturn\u001b[39;00m indexer\n",
      "File \u001b[1;32m~\\anaconda3\\Lib\\site-packages\\pandas\\core\\indexes\\datetimes.py:698\u001b[0m, in \u001b[0;36mDatetimeIndex.slice_indexer\u001b[1;34m(self, start, end, step)\u001b[0m\n\u001b[0;32m    695\u001b[0m     in_index \u001b[38;5;241m&\u001b[39m\u001b[38;5;241m=\u001b[39m (end_casted \u001b[38;5;241m==\u001b[39m \u001b[38;5;28mself\u001b[39m)\u001b[38;5;241m.\u001b[39many()\n\u001b[0;32m    697\u001b[0m \u001b[38;5;28;01mif\u001b[39;00m \u001b[38;5;129;01mnot\u001b[39;00m in_index:\n\u001b[1;32m--> 698\u001b[0m     \u001b[38;5;28;01mraise\u001b[39;00m \u001b[38;5;167;01mKeyError\u001b[39;00m(\n\u001b[0;32m    699\u001b[0m         \u001b[38;5;124m\"\u001b[39m\u001b[38;5;124mValue based partial slicing on non-monotonic DatetimeIndexes \u001b[39m\u001b[38;5;124m\"\u001b[39m\n\u001b[0;32m    700\u001b[0m         \u001b[38;5;124m\"\u001b[39m\u001b[38;5;124mwith non-existing keys is not allowed.\u001b[39m\u001b[38;5;124m\"\u001b[39m,\n\u001b[0;32m    701\u001b[0m     )\n\u001b[0;32m    702\u001b[0m indexer \u001b[38;5;241m=\u001b[39m mask\u001b[38;5;241m.\u001b[39mnonzero()[\u001b[38;5;241m0\u001b[39m][::step]\n\u001b[0;32m    703\u001b[0m \u001b[38;5;28;01mif\u001b[39;00m \u001b[38;5;28mlen\u001b[39m(indexer) \u001b[38;5;241m==\u001b[39m \u001b[38;5;28mlen\u001b[39m(\u001b[38;5;28mself\u001b[39m):\n",
      "\u001b[1;31mKeyError\u001b[0m: 'Value based partial slicing on non-monotonic DatetimeIndexes with non-existing keys is not allowed.'"
     ]
    }
   ],
   "source": [
    "# Specify the start and end dates for the slice\n",
    "start_date = '2022-01-01'\n",
    "end_date = '2022-12-30'\n",
    "\n",
    "# Slice the DataFrame to include only data within the specified date range\n",
    "sliced_df = stocks_df[start_date:end_date]\n",
    "\n",
    "# Plot the sliced DataFrame\n",
    "sliced_df.plot(figsize=(30, 15))"
   ]
  },
  {
   "cell_type": "code",
   "execution_count": 35,
   "metadata": {},
   "outputs": [
    {
     "name": "stdout",
     "output_type": "stream",
     "text": [
      "Company with the highest stock value: AMZN\n",
      "Highest stock value: 3408.09\n"
     ]
    }
   ],
   "source": [
    "# Find the company with the highest stock value\n",
    "max_stock_value = stocks_df['close'].max()\n",
    "company_with_highest_stock = stocks_df.loc[stocks_df['close'] == max_stock_value, 'symbol'].iloc[0]\n",
    "\n",
    "print(\"Company with the highest stock value:\", company_with_highest_stock)\n",
    "print(\"Highest stock value:\", max_stock_value)"
   ]
  },
  {
   "cell_type": "code",
   "execution_count": 36,
   "metadata": {},
   "outputs": [
    {
     "data": {
      "image/png": "[encoded data removed]",
      "text/plain": [
       "<Figure size 1000x600 with 1 Axes>"
      ]
     },
     "metadata": {},
     "output_type": "display_data"
    }
   ],
   "source": [
    "# Find the company with the highest stock value\n",
    "max_stock_value = stocks_df['close'].max()\n",
    "company_with_highest_stock = stocks_df.loc[stocks_df['close'] == max_stock_value, 'symbol'].iloc[0]\n",
    "\n",
    "# Plot closing prices for each company\n",
    "plt.figure(figsize=(10, 6))\n",
    "for symbol in stocks_df['symbol'].unique():\n",
    "    company_data = stocks_df[stocks_df['symbol'] == symbol]\n",
    "    plt.plot(company_data.index, company_data['close'], label=symbol)\n",
    "\n",
    "# Highlight the company with the highest stock value\n",
    "highest_stock_company_data = stocks_df[stocks_df['symbol'] == company_with_highest_stock]\n",
    "plt.scatter(highest_stock_company_data.index, highest_stock_company_data['close'], color='red', label='Highest Stock Value')\n",
    "\n",
    "plt.title('Closing Prices for Different Companies')\n",
    "plt.xlabel('Date')\n",
    "plt.ylabel('Closing Price')\n",
    "plt.legend()\n",
    "plt.xticks(rotation=45)\n",
    "plt.tight_layout()\n",
    "plt.show()"
   ]
  },
  {
   "cell_type": "markdown",
   "metadata": {},
   "source": [
    "## Modelling"
   ]
  },
  {
   "cell_type": "markdown",
   "metadata": {},
   "source": [
    "The plotted time series is not stationary."
   ]
  },
  {
   "cell_type": "markdown",
   "metadata": {},
   "source": [
    "#### Auto-Correlation and Partial Auto-Correlation of the Differenced Data\n",
    "Plotting the ACF and PACF functions help determine the AR and MA components in the models we intend to build. These functions consider all the above components of a time series like the trend and the seasonality and find their correlations"
   ]
  },
  {
   "cell_type": "code",
   "execution_count": 37,
   "metadata": {},
   "outputs": [
    {
     "data": {
      "image/png": "[encoded data removed]",
      "text/plain": [
       "<Figure size 1600x300 with 1 Axes>"
      ]
     },
     "metadata": {},
     "output_type": "display_data"
    }
   ],
   "source": [
    "from statsmodels.graphics.tsaplots import plot_acf\n",
    "\n",
    "# Extract the 'close' column\n",
    "close_series = stocks_df['close']\n",
    "\n",
    "# Plot the ACF for the 'close' series\n",
    "fig, ax = plt.subplots(figsize=(16, 3))\n",
    "plot_acf(close_series, ax=ax, lags=8)\n",
    "plt.show();"
   ]
  },
  {
   "cell_type": "code",
   "execution_count": 39,
   "metadata": {},
   "outputs": [
    {
     "data": {
      "image/png": "[encoded data removed]",
      "text/plain": [
       "<Figure size 1600x300 with 1 Axes>"
      ]
     },
     "metadata": {},
     "output_type": "display_data"
    }
   ],
   "source": [
    "from statsmodels.graphics.tsaplots import plot_pacf\n",
    "# Plot the PACF\n",
    "fig, ax = plt.subplots(figsize = (16,3))\n",
    "plot_pacf(close_series, ax=ax, lags=8, method=\"ywm\");"
   ]
  },
  {
   "cell_type": "markdown",
   "metadata": {},
   "source": [
    "### ARIMA"
   ]
  },
  {
   "cell_type": "code",
   "execution_count": null,
   "metadata": {},
   "outputs": [],
   "source": []
  }
 ],
 "metadata": {
  "kernelspec": {
   "display_name": "Python (learn-env)",
   "language": "python",
   "name": "learn-env"
  },
  "language_info": {
   "codemirror_mode": {
    "name": "ipython",
    "version": 3
   },
   "file_extension": ".py",
   "mimetype": "text/x-python",
   "name": "python",
   "nbconvert_exporter": "python",
   "pygments_lexer": "ipython3",
   "version": "3.11.5"
  }
 },
 "nbformat": 4,
 "nbformat_minor": 4
}
